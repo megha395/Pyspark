{
 "cells": [
  {
   "cell_type": "code",
   "execution_count": 1,
   "metadata": {},
   "outputs": [],
   "source": [
    "import pyspark\n",
    "from pyspark.sql import SparkSession\n",
    "from pyspark.rdd import RDD"
   ]
  },
  {
   "cell_type": "code",
   "execution_count": null,
   "metadata": {},
   "outputs": [],
   "source": [
    "Max_memory = '15GB'\n",
    "conf = pyspark.SparkConf().setMaster(\"local[*]\")\\\n",
    "                        .set('spark.executor.heartbeatInterval', 10000)\\\n",
    "                        .set('spark.network.timeout', 10000)\\\n",
    "                        .set('spark.core.connection.ack.wait.timeout', \"3600\")\\\n",
    "                        .set('spark.executor.memory'. Max_memory)\\\n",
    "                        .set('spark.driver.memory', Max_memory)\n",
    "\n",
    "def init_spark():\n",
    "    spark = SparkSession\\ \n",
    "            .builder\\ \n",
    "            .appName()\\\n",
    "            .config = conf \\\n",
    "            \n"
   ]
  }
 ],
 "metadata": {
  "kernelspec": {
   "display_name": "Python 3",
   "language": "python",
   "name": "python3"
  },
  "language_info": {
   "codemirror_mode": {
    "name": "ipython",
    "version": 3
   },
   "file_extension": ".py",
   "mimetype": "text/x-python",
   "name": "python",
   "nbconvert_exporter": "python",
   "pygments_lexer": "ipython3",
   "version": "3.9.13"
  }
 },
 "nbformat": 4,
 "nbformat_minor": 2
}
